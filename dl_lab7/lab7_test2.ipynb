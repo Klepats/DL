{
 "cells": [
  {
   "cell_type": "markdown",
   "id": "bc263702",
   "metadata": {},
   "source": [
    "# Food101 Multiclass Image Classification (PyTorch)\n",
    "\n",
    "This notebook demonstrates a professional approach to multiclass image classification using a convolutional neural network (CNN) on the Food101 dataset with PyTorch."
   ]
  },
  {
   "cell_type": "markdown",
   "id": "1f389dbb",
   "metadata": {},
   "source": [
    "## Install Required Libraries\n",
    "\n",
    "Install the `datasets` library for loading Food101 and `torchvision` for image processing."
   ]
  },
  {
   "cell_type": "code",
   "execution_count": null,
   "id": "beb51d5c",
   "metadata": {},
   "outputs": [],
   "source": [
    "!pip install datasets torchvision"
   ]
  },
  {
   "cell_type": "markdown",
   "id": "0d0662c8",
   "metadata": {},
   "source": [
    "## Import Libraries"
   ]
  },
  {
   "cell_type": "code",
   "execution_count": null,
   "id": "3e56450e",
   "metadata": {},
   "outputs": [],
   "source": [
    "import torch\n",
    "import torchvision.transforms as transforms\n",
    "from torch.utils.data import DataLoader\n",
    "import torch.nn as nn\n",
    "import torch.optim as optim\n",
    "from datasets import load_dataset\n",
    "from PIL import Image\n",
    "import numpy as np\n",
    "from collections import Counter"
   ]
  },
  {
   "cell_type": "markdown",
   "id": "b06efd47",
   "metadata": {},
   "source": [
    "## Download and Prepare a Balanced Subset of Food101\n",
    "\n",
    "For faster training and demonstration, use a balanced subset of the dataset."
   ]
  },
  {
   "cell_type": "code",
   "execution_count": null,
   "id": "69eee747",
   "metadata": {},
   "outputs": [],
   "source": [
    "# Download the Food101 dataset\n",
    "dataset = load_dataset('food101')\n",
    "\n",
    "def balanced_middle_cut(ds, num_classes=101, samples_per_class=50):\n",
    "    indices = []\n",
    "    class_indices = {i: [] for i in range(num_classes)}\n",
    "    for idx, label in enumerate(ds['label']):\n",
    "        class_indices[label].append(idx)\n",
    "    for label in range(num_classes):\n",
    "        idxs = class_indices[label]\n",
    "        if len(idxs) >= samples_per_class:\n",
    "            start = (len(idxs) - samples_per_class) // 2\n",
    "            indices.extend(idxs[start:start+samples_per_class])\n",
    "        else:\n",
    "            indices.extend(idxs)\n",
    "    return ds.select(indices)\n",
    "\n",
    "# Use a balanced subset for training and validation\n",
    "middle_train = balanced_middle_cut(dataset['train'], samples_per_class=50)\n",
    "middle_val = balanced_middle_cut(dataset['validation'], samples_per_class=25)"
   ]
  },
  {
   "cell_type": "markdown",
   "id": "2580ce6c",
   "metadata": {},
   "source": [
    "## Data Augmentation and Preprocessing\n",
    "\n",
    "Apply data augmentation for training and normalization for validation."
   ]
  },
  {
   "cell_type": "code",
   "execution_count": null,
   "id": "31a15efd",
   "metadata": {},
   "outputs": [],
   "source": [
    "train_transform = transforms.Compose([\n",
    "    transforms.Resize(144),\n",
    "    transforms.RandomResizedCrop(128),\n",
    "    transforms.RandomHorizontalFlip(),\n",
    "    transforms.RandomRotation(15),\n",
    "    transforms.ColorJitter(brightness=0.2, contrast=0.2, saturation=0.2, hue=0.1),\n",
    "    transforms.ToTensor(),\n",
    "    transforms.Normalize(mean=[0.485, 0.456, 0.406], std=[0.229, 0.224, 0.225])\n",
    "])\n",
    "\n",
    "val_transform = transforms.Compose([\n",
    "    transforms.Resize(144),\n",
    "    transforms.CenterCrop(128),\n",
    "    transforms.ToTensor(),\n",
    "    transforms.Normalize(mean=[0.485, 0.456, 0.406], std=[0.229, 0.224, 0.225])\n",
    "])"
   ]
  },
  {
   "cell_type": "markdown",
   "id": "f8506151",
   "metadata": {},
   "source": [
    "## PyTorch Dataset Wrapper\n",
    "\n",
    "Wrap the Hugging Face dataset for use with PyTorch DataLoader. Ensure all images are RGB."
   ]
  },
  {
   "cell_type": "code",
   "execution_count": null,
   "id": "e249a3bd",
   "metadata": {},
   "outputs": [],
   "source": [
    "class Food101TorchDataset(torch.utils.data.Dataset):\n",
    "    def __init__(self, hf_dataset, transform=None):\n",
    "        self.dataset = hf_dataset\n",
    "        self.transform = transform\n",
    "\n",
    "    def __len__(self):\n",
    "        return len(self.dataset)\n",
    "\n",
    "    def __getitem__(self, idx):\n",
    "        img = self.dataset[idx]['image']\n",
    "        label = self.dataset[idx]['label']\n",
    "        if img.mode != 'RGB':\n",
    "            img = img.convert('RGB')\n",
    "        if self.transform:\n",
    "            img = self.transform(img)\n",
    "        return img, label\n",
    "\n",
    "train_dataset = Food101TorchDataset(middle_train, transform=train_transform)\n",
    "val_dataset = Food101TorchDataset(middle_val, transform=val_transform)"
   ]
  },
  {
   "cell_type": "markdown",
   "id": "6cdc9ec7",
   "metadata": {},
   "source": [
    "## Create DataLoaders"
   ]
  },
  {
   "cell_type": "code",
   "execution_count": null,
   "id": "faff00f7",
   "metadata": {},
   "outputs": [],
   "source": [
    "batch_size = 32\n",
    "train_loader = DataLoader(train_dataset, batch_size=batch_size, shuffle=True, num_workers=2)\n",
    "val_loader = DataLoader(val_dataset, batch_size=batch_size, shuffle=False, num_workers=2)"
   ]
  },
  {
   "cell_type": "markdown",
   "id": "7c5e71bd",
   "metadata": {},
   "source": [
    "## Define a Simple CNN Model"
   ]
  },
  {
   "cell_type": "code",
   "execution_count": null,
   "id": "d0eb544e",
   "metadata": {},
   "outputs": [],
   "source": [
    "class SimpleCNN(nn.Module):\n",
    "    def __init__(self, num_classes=101):\n",
    "        super(SimpleCNN, self).__init__()\n",
    "        self.features = nn.Sequential(\n",
    "            nn.Conv2d(3, 32, kernel_size=3, padding=1),\n",
    "            nn.ReLU(),\n",
    "            nn.MaxPool2d(2),\n",
    "            nn.Conv2d(32, 64, kernel_size=3, padding=1),\n",
    "            nn.ReLU(),\n",
    "            nn.MaxPool2d(2),\n",
    "            nn.Conv2d(64, 128, kernel_size=3, padding=1),\n",
    "            nn.ReLU(),\n",
    "            nn.MaxPool2d(2)\n",
    "        )\n",
    "        self.classifier = nn.Sequential(\n",
    "            nn.Flatten(),\n",
    "            nn.Linear(128 * 16 * 16, 256),\n",
    "            nn.ReLU(),\n",
    "            nn.Linear(256, num_classes)\n",
    "        )\n",
    "\n",
    "    def forward(self, x):\n",
    "        x = self.features(x)\n",
    "        x = self.classifier(x)\n",
    "        return x\n",
    "\n",
    "device = torch.device('cuda' if torch.cuda.is_available() else 'cpu')\n",
    "model = SimpleCNN().to(device)\n",
    "print(model)"
   ]
  },
  {
   "cell_type": "markdown",
   "id": "090d727d",
   "metadata": {},
   "source": [
    "## Set Up Training Components"
   ]
  },
  {
   "cell_type": "code",
   "execution_count": null,
   "id": "0946c72f",
   "metadata": {},
   "outputs": [],
   "source": [
    "criterion = nn.CrossEntropyLoss()\n",
    "optimizer = optim.Adam(model.parameters(), lr=0.001)\n",
    "scheduler = optim.lr_scheduler.ReduceLROnPlateau(optimizer, mode='min', factor=0.5, patience=2, verbose=True)"
   ]
  },
  {
   "cell_type": "markdown",
   "id": "afe23b77",
   "metadata": {},
   "source": [
    "## Training Loop with Validation"
   ]
  },
  {
   "cell_type": "code",
   "execution_count": null,
   "id": "297c60d2",
   "metadata": {},
   "outputs": [],
   "source": [
    "num_epochs = 10\n",
    "best_val_acc = 0.0\n",
    "for epoch in range(num_epochs):\n",
    "    model.train()\n",
    "    running_loss = 0.0\n",
    "    for images, labels in train_loader:\n",
    "        images, labels = images.to(device), labels.to(device)\n",
    "        optimizer.zero_grad()\n",
    "        outputs = model(images)\n",
    "        loss = criterion(outputs, labels)\n",
    "        loss.backward()\n",
    "        optimizer.step()\n",
    "        running_loss += loss.item() * images.size(0)\n",
    "    epoch_loss = running_loss / len(train_loader.dataset)\n",
    "\n",
    "    # Validation\n",
    "    model.eval()\n",
    "    correct = 0\n",
    "    total = 0\n",
    "    val_loss = 0.0\n",
    "    with torch.no_grad():\n",
    "        for images, labels in val_loader:\n",
    "            images, labels = images.to(device), labels.to(device)\n",
    "            outputs = model(images)\n",
    "            loss = criterion(outputs, labels)\n",
    "            val_loss += loss.item() * images.size(0)\n",
    "            _, predicted = torch.max(outputs.data, 1)\n",
    "            total += labels.size(0)\n",
    "            correct += (predicted == labels).sum().item()\n",
    "    val_loss = val_loss / len(val_loader.dataset)\n",
    "    val_acc = 100 * correct / total\n",
    "    scheduler.step(val_loss)\n",
    "    print(f'Epoch {epoch+1}/{num_epochs} | Train Loss: {epoch_loss:.4f} | Val Loss: {val_loss:.4f} | Val Accuracy: {val_acc:.2f}%')\n",
    "    if val_acc > best_val_acc:\n",
    "        best_val_acc = val_acc\n",
    "        torch.save(model.state_dict(), 'best_food101_cnn.pth')"
   ]
  },
  {
   "cell_type": "markdown",
   "id": "6f0a9ef3",
   "metadata": {},
   "source": [
    "## Evaluate the Best Model"
   ]
  },
  {
   "cell_type": "code",
   "execution_count": null,
   "id": "b61471b9",
   "metadata": {},
   "outputs": [],
   "source": [
    "# Load best model weights\n",
    "model.load_state_dict(torch.load('best_food101_cnn.pth'))\n",
    "model.eval()\n",
    "correct = 0\n",
    "total = 0\n",
    "with torch.no_grad():\n",
    "    for images, labels in val_loader:\n",
    "        images, labels = images.to(device), labels.to(device)\n",
    "        outputs = model(images)\n",
    "        _, predicted = torch.max(outputs.data, 1)\n",
    "        total += labels.size(0)\n",
    "        correct += (predicted == labels).sum().item()\n",
    "print(f'Best Validation Accuracy: {100 * correct / total:.2f}%')"
   ]
  },
  {
   "cell_type": "markdown",
   "id": "d66416d9",
   "metadata": {},
   "source": [
    "## Predict on a New Image"
   ]
  },
  {
   "cell_type": "code",
   "execution_count": null,
   "id": "57929b05",
   "metadata": {},
   "outputs": [],
   "source": [
    "def preprocess_image(image_path):\n",
    "    image = Image.open(image_path).convert('RGB')\n",
    "    image = val_transform(image)\n",
    "    return image.unsqueeze(0)\n",
    "\n",
    "image_path = 'image_prime.jpg'  # Change to your image path\n",
    "image_tensor = preprocess_image(image_path).to(device)\n",
    "model.eval()\n",
    "with torch.no_grad():\n",
    "    output = model(image_tensor)\n",
    "    pred_class = torch.argmax(output, dim=1).item()\n",
    "class_names = dataset['train'].features['label'].names\n",
    "print(f'Predicted Class: {class_names[pred_class]}')"
   ]
  }
 ],
 "metadata": {
  "language_info": {
   "name": "python"
  }
 },
 "nbformat": 4,
 "nbformat_minor": 5
}
